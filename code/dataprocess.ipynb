{
 "cells": [
  {
   "cell_type": "code",
   "execution_count": 22,
   "id": "ac703b0d-f8b3-497d-a64a-fbc79f0ddde0",
   "metadata": {},
   "outputs": [],
   "source": [
    "import importlib\n",
    "import pandas as pd\n",
    "import pubchempy\n",
    "import json\n",
    "import FCN_drug_gene\n",
    "importlib.reload(FCN_drug_gene)\n",
    "# 这个函数已不使用\n",
    "import FCN_disease_gene\n",
    "importlib.reload(FCN_disease_gene)\n",
    "import random_walk\n",
    "importlib.reload(random_walk)\n",
    "from sklearn.metrics.pairwise import cosine_similarity\n",
    "import numpy as np\n",
    "import matplotlib.pyplot as plt\n",
    "import multiprocessing\n",
    "from concurrent.futures import ThreadPoolExecutor\n",
    "from IPython.display import clear_output, display, update_display, HTML\n",
    "import gseapy\n",
    "importlib.reload(gseapy)\n",
    "import random\n",
    "import warnings\n",
    "import pickle\n",
    "import time\n",
    "import scipy.stats as stats\n",
    "import networkx as nx\n",
    "import copy\n",
    "import matplotlib.pyplot as plt"
   ]
  },
  {
   "cell_type": "markdown",
   "id": "a175cdbc-1abc-42ca-a2df-cde179e65795",
   "metadata": {
    "tags": []
   },
   "source": [
    "### 读取并处理数据"
   ]
  },
  {
   "cell_type": "code",
   "execution_count": 6,
   "id": "16f3bdd9-7748-48fd-a54c-c0f14f1a52a9",
   "metadata": {},
   "outputs": [],
   "source": [
    "d_g=pd.read_csv('CTD_chemicals_diseases.csv',skiprows=range(0, 29),delimiter=',',header=None)\n",
    "d_g.columns=['ChemicalName','ChemicalID','CasRN','DiseaseName','DiseaseID','DirectEvidence','InferenceGeneSymbol','InferenceScore','OmimIDs','PubMedIDs']\n",
    "d_g=d_g[['ChemicalName','DiseaseID','DiseaseName','DirectEvidence']]\n",
    "d_g=d_g[[True if x.split(':')[0]=='MESH' else False for x in d_g['DiseaseID']]]\n",
    "d_g.loc[:,'DiseaseID']=[x.split(':')[1] for x in d_g['DiseaseID']]\n",
    "d_g.dropna(subset=['DirectEvidence'],inplace=True)"
   ]
  },
  {
   "cell_type": "code",
   "execution_count": 16,
   "id": "0309e8ba-0f80-4672-9156-3f867af5e223",
   "metadata": {},
   "outputs": [
    {
     "data": {
      "text/html": [
       "<div>\n",
       "<style scoped>\n",
       "    .dataframe tbody tr th:only-of-type {\n",
       "        vertical-align: middle;\n",
       "    }\n",
       "\n",
       "    .dataframe tbody tr th {\n",
       "        vertical-align: top;\n",
       "    }\n",
       "\n",
       "    .dataframe thead th {\n",
       "        text-align: right;\n",
       "    }\n",
       "</style>\n",
       "<table border=\"1\" class=\"dataframe\">\n",
       "  <thead>\n",
       "    <tr style=\"text-align: right;\">\n",
       "      <th></th>\n",
       "      <th>ChemicalName</th>\n",
       "      <th>DiseaseID</th>\n",
       "      <th>DiseaseName</th>\n",
       "      <th>DirectEvidence</th>\n",
       "    </tr>\n",
       "  </thead>\n",
       "  <tbody>\n",
       "    <tr>\n",
       "      <th>0</th>\n",
       "      <td>06-Paris-LA-66 protocol</td>\n",
       "      <td>D054198</td>\n",
       "      <td>Precursor Cell Lymphoblastic Leukemia-Lymphoma</td>\n",
       "      <td>therapeutic</td>\n",
       "    </tr>\n",
       "    <tr>\n",
       "      <th>97</th>\n",
       "      <td>10,10-bis(4-pyridinylmethyl)-9(10H)-anthracenone</td>\n",
       "      <td>D006948</td>\n",
       "      <td>Hyperkinesis</td>\n",
       "      <td>marker/mechanism</td>\n",
       "    </tr>\n",
       "    <tr>\n",
       "      <th>113</th>\n",
       "      <td>10,10-bis(4-pyridinylmethyl)-9(10H)-anthracenone</td>\n",
       "      <td>D012640</td>\n",
       "      <td>Seizures</td>\n",
       "      <td>marker/mechanism</td>\n",
       "    </tr>\n",
       "    <tr>\n",
       "      <th>165</th>\n",
       "      <td>10,11-dihydro-10-hydroxycarbamazepine</td>\n",
       "      <td>D004827</td>\n",
       "      <td>Epilepsy</td>\n",
       "      <td>therapeutic</td>\n",
       "    </tr>\n",
       "    <tr>\n",
       "      <th>221</th>\n",
       "      <td>10,11-dihydroxy-N-n-propylnorapomorphine</td>\n",
       "      <td>D006948</td>\n",
       "      <td>Hyperkinesis</td>\n",
       "      <td>marker/mechanism</td>\n",
       "    </tr>\n",
       "    <tr>\n",
       "      <th>...</th>\n",
       "      <td>...</td>\n",
       "      <td>...</td>\n",
       "      <td>...</td>\n",
       "      <td>...</td>\n",
       "    </tr>\n",
       "    <tr>\n",
       "      <th>8635303</th>\n",
       "      <td>Zymosan</td>\n",
       "      <td>D010538</td>\n",
       "      <td>Peritonitis</td>\n",
       "      <td>marker/mechanism</td>\n",
       "    </tr>\n",
       "    <tr>\n",
       "      <th>8635656</th>\n",
       "      <td>Zymosan</td>\n",
       "      <td>D018805</td>\n",
       "      <td>Sepsis</td>\n",
       "      <td>marker/mechanism</td>\n",
       "    </tr>\n",
       "    <tr>\n",
       "      <th>8635679</th>\n",
       "      <td>Zymosan</td>\n",
       "      <td>D012769</td>\n",
       "      <td>Shock</td>\n",
       "      <td>marker/mechanism</td>\n",
       "    </tr>\n",
       "    <tr>\n",
       "      <th>8635927</th>\n",
       "      <td>Zymosan</td>\n",
       "      <td>D014605</td>\n",
       "      <td>Uveitis</td>\n",
       "      <td>marker/mechanism</td>\n",
       "    </tr>\n",
       "    <tr>\n",
       "      <th>8635983</th>\n",
       "      <td>zymostenol</td>\n",
       "      <td>D002806</td>\n",
       "      <td>Chondrodysplasia Punctata</td>\n",
       "      <td>marker/mechanism</td>\n",
       "    </tr>\n",
       "  </tbody>\n",
       "</table>\n",
       "<p>105497 rows × 4 columns</p>\n",
       "</div>"
      ],
      "text/plain": [
       "                                             ChemicalName DiseaseID  \\\n",
       "0                                 06-Paris-LA-66 protocol   D054198   \n",
       "97       10,10-bis(4-pyridinylmethyl)-9(10H)-anthracenone   D006948   \n",
       "113      10,10-bis(4-pyridinylmethyl)-9(10H)-anthracenone   D012640   \n",
       "165                 10,11-dihydro-10-hydroxycarbamazepine   D004827   \n",
       "221              10,11-dihydroxy-N-n-propylnorapomorphine   D006948   \n",
       "...                                                   ...       ...   \n",
       "8635303                                           Zymosan   D010538   \n",
       "8635656                                           Zymosan   D018805   \n",
       "8635679                                           Zymosan   D012769   \n",
       "8635927                                           Zymosan   D014605   \n",
       "8635983                                        zymostenol   D002806   \n",
       "\n",
       "                                            DiseaseName    DirectEvidence  \n",
       "0        Precursor Cell Lymphoblastic Leukemia-Lymphoma       therapeutic  \n",
       "97                                         Hyperkinesis  marker/mechanism  \n",
       "113                                            Seizures  marker/mechanism  \n",
       "165                                            Epilepsy       therapeutic  \n",
       "221                                        Hyperkinesis  marker/mechanism  \n",
       "...                                                 ...               ...  \n",
       "8635303                                     Peritonitis  marker/mechanism  \n",
       "8635656                                          Sepsis  marker/mechanism  \n",
       "8635679                                           Shock  marker/mechanism  \n",
       "8635927                                         Uveitis  marker/mechanism  \n",
       "8635983                       Chondrodysplasia Punctata  marker/mechanism  \n",
       "\n",
       "[105497 rows x 4 columns]"
      ]
     },
     "execution_count": 16,
     "metadata": {},
     "output_type": "execute_result"
    }
   ],
   "source": [
    "d_g"
   ]
  },
  {
   "cell_type": "code",
   "execution_count": 17,
   "id": "1ecc08b2-cfdb-4912-a16b-d2121b63d1ec",
   "metadata": {},
   "outputs": [],
   "source": [
    "mesh=pd.read_csv('mesh_info.csv')\n",
    "mesh.rename(columns={'mesh':'DiseaseName'},inplace=True)\n",
    "mesh['mesh_embedding']=mesh['mesh_embedding'].apply(json.loads)"
   ]
  },
  {
   "cell_type": "code",
   "execution_count": 18,
   "id": "bc2b8e07-8be9-4ea6-b1c9-29133f2b41a4",
   "metadata": {},
   "outputs": [],
   "source": [
    "# 限定d_g的疾病为mesh和ctd中都存在的\n",
    "d_g=pd.merge(d_g,mesh,on='DiseaseName',how='inner')"
   ]
  },
  {
   "cell_type": "code",
   "execution_count": 20,
   "id": "cda35912-2d98-4e95-92c1-48479ebddaa1",
   "metadata": {},
   "outputs": [],
   "source": [
    "drugs_superstore=pd.read_csv('drugs_superstore.csv')[['ChemicalName','cid','smiles','drug_embedding']]\n",
    "drugs_superstore['drug_embedding']=drugs_superstore['drug_embedding'].apply(json.loads)"
   ]
  },
  {
   "cell_type": "code",
   "execution_count": 24,
   "id": "8559a43f-0db2-4033-b623-bbae97fa2160",
   "metadata": {},
   "outputs": [],
   "source": [
    "# 限定d_g的药物为药物库里有的\n",
    "d_g=pd.merge(d_g,drugs_superstore,on='ChemicalName',how='inner')\n",
    "d_g=d_g.drop_duplicates(subset=['ChemicalName','DiseaseName']).reset_index(drop=True)"
   ]
  },
  {
   "cell_type": "code",
   "execution_count": 25,
   "id": "33f72cf1-49fa-4274-a8e3-6170e9270734",
   "metadata": {
    "tags": []
   },
   "outputs": [
    {
     "name": "stdout",
     "output_type": "stream",
     "text": [
      "drugs:7940    diseases:2986    d_g pairs:88161\n"
     ]
    }
   ],
   "source": [
    "# 获取现在情况下涉及的药物和疾病列表\n",
    "drugs_df_all=d_g[['ChemicalName','drug_embedding']].drop_duplicates(subset='ChemicalName').reset_index(drop=True)\n",
    "diseases_df_all=d_g[['DiseaseName','mesh_embedding']].drop_duplicates(subset='DiseaseName').reset_index(drop=True)\n",
    "print(f'drugs:{len(drugs_df_all)}    diseases:{len(diseases_df_all)}    d_g pairs:{len(d_g)}')"
   ]
  },
  {
   "cell_type": "code",
   "execution_count": 9,
   "id": "61f074b2-e0f2-4198-8069-bfc5589be37c",
   "metadata": {},
   "outputs": [],
   "source": [
    "# 读取疾病名称和TCGA疾病名称的转化\n",
    "diseases_TCGA=pd.read_csv('Xena/diseases.csv').dropna(subset=['GTEx_category']).reset_index(drop=True)"
   ]
  },
  {
   "cell_type": "code",
   "execution_count": 10,
   "id": "f02550ae-ac8a-4fe1-ae73-00614cd80b88",
   "metadata": {},
   "outputs": [
    {
     "data": {
      "text/html": [
       "<div>\n",
       "<style scoped>\n",
       "    .dataframe tbody tr th:only-of-type {\n",
       "        vertical-align: middle;\n",
       "    }\n",
       "\n",
       "    .dataframe tbody tr th {\n",
       "        vertical-align: top;\n",
       "    }\n",
       "\n",
       "    .dataframe thead th {\n",
       "        text-align: right;\n",
       "    }\n",
       "</style>\n",
       "<table border=\"1\" class=\"dataframe\">\n",
       "  <thead>\n",
       "    <tr style=\"text-align: right;\">\n",
       "      <th></th>\n",
       "      <th>DiseaseName</th>\n",
       "      <th>TCGA</th>\n",
       "      <th>GTEx</th>\n",
       "      <th>GTEx_category</th>\n",
       "    </tr>\n",
       "  </thead>\n",
       "  <tbody>\n",
       "    <tr>\n",
       "      <th>0</th>\n",
       "      <td>Adrenocortical Carcinoma</td>\n",
       "      <td>TCGA Adrenocortical Cancer</td>\n",
       "      <td>Adrenal Gland</td>\n",
       "      <td>GTEX Adrenal Gland</td>\n",
       "    </tr>\n",
       "    <tr>\n",
       "      <th>1</th>\n",
       "      <td>Uterine Neoplasms</td>\n",
       "      <td>TCGA Uterine Corpus Endometrioid Carcinoma</td>\n",
       "      <td>Uterus</td>\n",
       "      <td>GTEX Uterus</td>\n",
       "    </tr>\n",
       "    <tr>\n",
       "      <th>2</th>\n",
       "      <td>Testicular Neoplasms</td>\n",
       "      <td>TCGA Testicular Germ Cell Tumor</td>\n",
       "      <td>Testis</td>\n",
       "      <td>GTEX Testis</td>\n",
       "    </tr>\n",
       "    <tr>\n",
       "      <th>3</th>\n",
       "      <td>Colonic Neoplasms</td>\n",
       "      <td>TCGA Colon Adenocarcinoma</td>\n",
       "      <td>\\tColon</td>\n",
       "      <td>GTEX Colon</td>\n",
       "    </tr>\n",
       "    <tr>\n",
       "      <th>4</th>\n",
       "      <td>Lung Neoplasms</td>\n",
       "      <td>TCGA Lung Adenocarcinoma</td>\n",
       "      <td>\\tLung</td>\n",
       "      <td>GTEX Lung</td>\n",
       "    </tr>\n",
       "    <tr>\n",
       "      <th>5</th>\n",
       "      <td>Triple Negative Breast Neoplasms</td>\n",
       "      <td>TCGA Breast Invasive Carcinoma</td>\n",
       "      <td>\\tBreast</td>\n",
       "      <td>GTEX Breast</td>\n",
       "    </tr>\n",
       "    <tr>\n",
       "      <th>6</th>\n",
       "      <td>Esophageal Neoplasms</td>\n",
       "      <td>TCGA Esophageal Carcinoma</td>\n",
       "      <td>Esophagus</td>\n",
       "      <td>GTEX Esophagus</td>\n",
       "    </tr>\n",
       "    <tr>\n",
       "      <th>7</th>\n",
       "      <td>Thymoma</td>\n",
       "      <td>TCGA Thymoma</td>\n",
       "      <td>\\tBlood</td>\n",
       "      <td>GTEX Blood</td>\n",
       "    </tr>\n",
       "    <tr>\n",
       "      <th>8</th>\n",
       "      <td>Carcinoma, Pancreatic Ductal</td>\n",
       "      <td>TCGA Pancreatic Adenocarcinoma</td>\n",
       "      <td>\\tPancreas</td>\n",
       "      <td>GTEX Pancreas</td>\n",
       "    </tr>\n",
       "    <tr>\n",
       "      <th>9</th>\n",
       "      <td>Liver Neoplasms</td>\n",
       "      <td>TCGA Liver Hepatocellular Carcinoma</td>\n",
       "      <td>\\tLiver</td>\n",
       "      <td>GTEX Liver</td>\n",
       "    </tr>\n",
       "    <tr>\n",
       "      <th>10</th>\n",
       "      <td>Stomach Neoplasms</td>\n",
       "      <td>TCGA Stomach Adenocarcinoma</td>\n",
       "      <td>Stomach</td>\n",
       "      <td>GTEX Stomach</td>\n",
       "    </tr>\n",
       "    <tr>\n",
       "      <th>11</th>\n",
       "      <td>Glioblastoma</td>\n",
       "      <td>TCGA Glioblastoma Multiforme</td>\n",
       "      <td>\\tBrain</td>\n",
       "      <td>GTEX Brain</td>\n",
       "    </tr>\n",
       "  </tbody>\n",
       "</table>\n",
       "</div>"
      ],
      "text/plain": [
       "                         DiseaseName  \\\n",
       "0           Adrenocortical Carcinoma   \n",
       "1                  Uterine Neoplasms   \n",
       "2               Testicular Neoplasms   \n",
       "3                  Colonic Neoplasms   \n",
       "4                     Lung Neoplasms   \n",
       "5   Triple Negative Breast Neoplasms   \n",
       "6               Esophageal Neoplasms   \n",
       "7                            Thymoma   \n",
       "8       Carcinoma, Pancreatic Ductal   \n",
       "9                    Liver Neoplasms   \n",
       "10                 Stomach Neoplasms   \n",
       "11                      Glioblastoma   \n",
       "\n",
       "                                          TCGA           GTEx  \\\n",
       "0                   TCGA Adrenocortical Cancer  Adrenal Gland   \n",
       "1   TCGA Uterine Corpus Endometrioid Carcinoma         Uterus   \n",
       "2              TCGA Testicular Germ Cell Tumor         Testis   \n",
       "3                    TCGA Colon Adenocarcinoma        \\tColon   \n",
       "4                     TCGA Lung Adenocarcinoma         \\tLung   \n",
       "5               TCGA Breast Invasive Carcinoma       \\tBreast   \n",
       "6                    TCGA Esophageal Carcinoma      Esophagus   \n",
       "7                                 TCGA Thymoma        \\tBlood   \n",
       "8               TCGA Pancreatic Adenocarcinoma     \\tPancreas   \n",
       "9          TCGA Liver Hepatocellular Carcinoma        \\tLiver   \n",
       "10                 TCGA Stomach Adenocarcinoma        Stomach   \n",
       "11                TCGA Glioblastoma Multiforme        \\tBrain   \n",
       "\n",
       "         GTEx_category  \n",
       "0   GTEX Adrenal Gland  \n",
       "1          GTEX Uterus  \n",
       "2          GTEX Testis  \n",
       "3           GTEX Colon  \n",
       "4            GTEX Lung  \n",
       "5          GTEX Breast  \n",
       "6       GTEX Esophagus  \n",
       "7           GTEX Blood  \n",
       "8        GTEX Pancreas  \n",
       "9           GTEX Liver  \n",
       "10        GTEX Stomach  \n",
       "11          GTEX Brain  "
      ]
     },
     "execution_count": 10,
     "metadata": {},
     "output_type": "execute_result"
    }
   ],
   "source": [
    "diseases_TCGA"
   ]
  },
  {
   "cell_type": "code",
   "execution_count": 11,
   "id": "d5ee1bb6-7d1e-4f7c-ae61-54ce5b1a6f7c",
   "metadata": {},
   "outputs": [],
   "source": [
    "# 把疾病限制为TCGA中有的疾病\n",
    "d_g_TCGA=d_g[[x in diseases_TCGA['DiseaseName'].tolist() for x in d_g['DiseaseName']]].reset_index(drop=True)\n",
    "d_g_TCGA=pd.merge(d_g_TCGA,diseases_TCGA,on='DiseaseName',how='inner')"
   ]
  },
  {
   "cell_type": "code",
   "execution_count": 12,
   "id": "59bde29f-2d9e-4686-bf1e-bc9bc28164d5",
   "metadata": {
    "tags": []
   },
   "outputs": [
    {
     "name": "stdout",
     "output_type": "stream",
     "text": [
      "TCGA drugs:774    TCGA diseases:12    d_g_TCGA pairs:1178\n"
     ]
    }
   ],
   "source": [
    "# 获取现在情况下涉及的药物和疾病列表\n",
    "drugs_df_TCGA=d_g_TCGA[['ChemicalName','drug_embedding']].drop_duplicates(subset='ChemicalName').reset_index(drop=True)\n",
    "diseases_df_TCGA=d_g_TCGA[['DiseaseName','mesh_embedding']].drop_duplicates(subset='DiseaseName').reset_index(drop=True)\n",
    "print(f'TCGA drugs:{len(drugs_df_TCGA)}    TCGA diseases:{len(diseases_df_TCGA)}    d_g_TCGA pairs:{len(d_g_TCGA)}')"
   ]
  },
  {
   "cell_type": "code",
   "execution_count": 2,
   "id": "ecde3862-caed-427c-a082-53e0c23a35bc",
   "metadata": {},
   "outputs": [],
   "source": [
    "# 读取疾病特异性网络合集\n",
    "network_symbol_all=pd.read_csv('Xena/network_symbol_all.csv')"
   ]
  },
  {
   "cell_type": "code",
   "execution_count": 14,
   "id": "418c9e17-dacd-416b-8bfb-974da09ff3cf",
   "metadata": {},
   "outputs": [],
   "source": [
    "# 读取基因embedding信息\n",
    "gene_info=pd.read_csv('gene_info_process.csv')\n",
    "gene_info.rename(columns={'embedding':'gene_embedding'},inplace=True)\n",
    "gene_info['gene_embedding']=gene_info['gene_embedding'].apply(json.loads)\n",
    "gene_info=gene_info.drop_duplicates(subset=['Gene']).reset_index(drop=True)[['gene_embedding','entrez_gene_id','Gene']]"
   ]
  },
  {
   "cell_type": "markdown",
   "id": "9b6c67b9-b95f-49dc-af93-731e99d0ce8b",
   "metadata": {
    "tags": []
   },
   "source": [
    "### 计算所有药物在所有基因上的预测结果，保存以加快后续处理速度"
   ]
  },
  {
   "cell_type": "code",
   "execution_count": 62,
   "id": "7d735167-50d5-418a-8438-8eaa42fe24f4",
   "metadata": {
    "tags": []
   },
   "outputs": [
    {
     "name": "stdout",
     "output_type": "stream",
     "text": [
      "finish predict targets of 140 drugs\n"
     ]
    }
   ],
   "source": [
    "use_gene_list_all=list(gene_info['Gene'])\n",
    "gene_embedding_list = list(gene_info['gene_embedding'])\n",
    "# 拆分计算节省内存\n",
    "count=0\n",
    "for zzz in range(0,len(drugs_df_all),200):\n",
    "    drug_gene_embeddings=[]\n",
    "    this_drug=[]\n",
    "    for x in range(zzz,min(zzz+200,len(drugs_df_all))):\n",
    "        count+=1\n",
    "        clear_output(wait=True)\n",
    "        print(f\"Count: {count}/{len(drugs_df_all)}\")\n",
    "        drug_embedding=drugs_df_all.loc[x,'drug_embedding']\n",
    "        drug_gene_embedding=[]\n",
    "        for y in gene_embedding_list:\n",
    "            drug_gene_embedding.append(drug_embedding+y)\n",
    "        drug_gene_embeddings.append(drug_gene_embedding)\n",
    "        this_drug.append(drugs_df_all.loc[x,'ChemicalName'])\n",
    "    drug_gene_preds=FCN_drug_gene.FCN_drug_gene(drug_gene_embeddings)\n",
    "    \n",
    "    with open('save_drug_pred_all_gene_results/drug_gene_preds_'+str(zzz)+'.pkl', 'wb') as f:\n",
    "        pickle.dump(drug_gene_preds, f)\n",
    "    with open('save_drug_pred_all_gene_results/drugs_'+str(zzz)+'.pkl', 'wb') as f:\n",
    "        pickle.dump(this_drug, f)"
   ]
  },
  {
   "cell_type": "code",
   "execution_count": 63,
   "id": "ff8ccfad-eebe-484e-940c-e7892093f58d",
   "metadata": {},
   "outputs": [],
   "source": [
    "with open('save_drug_pred_all_gene_results/use_gene_list_all.pkl', 'wb') as f:\n",
    "    pickle.dump(use_gene_list_all, f)"
   ]
  },
  {
   "cell_type": "code",
   "execution_count": 64,
   "id": "de56746b-b678-49d6-95aa-eb63bcfe981f",
   "metadata": {},
   "outputs": [],
   "source": [
    "drug_gene_preds_all=[]\n",
    "drug_list_all=[]\n",
    "for zzz in range(0,len(drugs_df_all),200):\n",
    "    with open('save_drug_pred_all_gene_results/drug_gene_preds_'+str(zzz)+'.pkl', 'rb') as f:\n",
    "        drug_gene_preds_all.extend(pickle.load(f))\n",
    "    with open('save_drug_pred_all_gene_results/drugs_'+str(zzz)+'.pkl', 'rb') as f:\n",
    "        drug_list_all.extend(pickle.load(f))\n",
    "with open('save_drug_pred_all_gene_results/use_gene_list_all.pkl', 'rb') as f:\n",
    "    use_gene_list_all=pickle.load(f)"
   ]
  },
  {
   "cell_type": "code",
   "execution_count": 65,
   "id": "f9a4253c-9b04-4f2f-98c4-8ae28e98ae95",
   "metadata": {},
   "outputs": [],
   "source": [
    "with open('drug_gene_preds_all.pkl', 'wb') as f:\n",
    "    pickle.dump(np.array(drug_gene_preds_all), f)\n",
    "with open('drug_list_all.pkl', 'wb') as f:\n",
    "    pickle.dump(drug_list_all, f)\n",
    "with open('use_gene_list_all.pkl', 'wb') as f:\n",
    "    pickle.dump(use_gene_list_all, f)\n",
    "pd.DataFrame({'Gene':use_gene_list_all}).to_csv('use_gene_list_all.csv',index=False)"
   ]
  },
  {
   "cell_type": "code",
   "execution_count": 23,
   "id": "c7be3485-573b-428b-b632-6cb0adf26a87",
   "metadata": {},
   "outputs": [
    {
     "name": "stdout",
     "output_type": "stream",
     "text": [
      "load saved all drug-gene-preds data, 7940 drugs on 18977 genes\n"
     ]
    }
   ],
   "source": [
    "# 加载已保存的所有药物在所有基因上的预测结果\n",
    "with open('drug_gene_preds_all.pkl', 'rb') as f:\n",
    "    # numpy array类型\n",
    "    drug_gene_preds_all=pickle.load(f)\n",
    "with open('drug_list_all.pkl', 'rb') as f:\n",
    "    drug_list_all=pickle.load(f)\n",
    "with open('use_gene_list_all.pkl', 'rb') as f:\n",
    "    use_gene_list_all=pickle.load(f)\n",
    "print(f'load saved all drug-gene-preds data, {len(drug_list_all)} drugs on {len(use_gene_list_all)} genes')"
   ]
  },
  {
   "cell_type": "markdown",
   "id": "000afdd7-97dc-4806-a5eb-f732cb00da49",
   "metadata": {},
   "source": [
    "### 一次游走完所有的"
   ]
  },
  {
   "cell_type": "code",
   "execution_count": null,
   "id": "48ec5f26-347d-4fb1-939a-2d881bec100f",
   "metadata": {},
   "outputs": [],
   "source": [
    "# 多进程进行药物游走\n",
    "def process_sublist_drug(sublist):\n",
    "    # 调用 random_walk 函数，并传递子列表 sublist\n",
    "    walk_results_drug = random_walk.random_walk_specific_network(copy.deepcopy(G),sublist, use_gene_list,use_gene_list_all, epoch=15, alpha=0.3, factor=0.95, length=15, p=1, q=1)\n",
    "    # 下面为使用非特异性网络，平时注释掉\n",
    "    # walk_results_drug = random_walk.random_walk_new(sublist, use_gene_list,use_gene_list_all, epoch=15, alpha=0.3, factor=0.95, length=15, p=1, q=1)\n",
    "    return walk_results_drug\n",
    "\n",
    "def split_list(lst, n):\n",
    "    # 将列表 lst 拆分成 n 个较小的列表\n",
    "    k, m = divmod(len(lst), n)\n",
    "    return [lst[i * k + min(i, m):(i + 1) * k + min(i + 1, m)] for i in range(n)]\n",
    "for ttttt in range(len(diseases_TCGA)):\n",
    "    # 选取特定TCGA疾病\n",
    "    TCGA_disease=diseases_TCGA.loc[ttttt,'TCGA']\n",
    "    TCGA_drugs=d_g_TCGA.loc[d_g_TCGA['TCGA']==TCGA_disease,'ChemicalName']\n",
    "    print(f'disease:{TCGA_disease}    target_drugs:{len(TCGA_drugs)}')\n",
    "    network=network_symbol_all.loc[network_symbol_all['category']==TCGA_disease,:]\n",
    "    network.loc[network['cor']>0,'cor']=1\n",
    "    network.loc[network['cor']<0,'cor']=-1\n",
    "    # 删去边为0的边\n",
    "    network=network.loc[network['cor']!=0,:].reset_index(drop=True)\n",
    "    # 创建TCGA特异性有向图\n",
    "    G = nx.DiGraph()\n",
    "    # 添加边和节点及其属性\n",
    "    for index, row in network.iterrows():\n",
    "        G.add_edge(row['node1'], row['node2'], direction=row['cor'])\n",
    "    print(f'create DiGraph with {G.number_of_nodes()} nodes and {G.number_of_edges()} edges')\n",
    "    # 获取网络中基因与基因数据库的基因的交集\n",
    "    use_gene_list=list((set(network['node1']).union(set(network['node2']))).intersection(set(gene_info['Gene'])))\n",
    "    # # 这是原先使用的非特异性网络，平时都注释掉\n",
    "    # ppi=pd.read_csv('HuamnSignalingNet_v7.csv')[['Unnamed: 1','Unnamed: 3','Unnamed: 4']]\n",
    "    # ppi.rename(columns={'Unnamed: 1': 'gene1', 'Unnamed: 3': 'gene2', 'Unnamed: 4': 'direction'}, inplace=True)\n",
    "    # ppi=ppi[ppi['direction']!='Phy']\n",
    "    # ppi=ppi.reset_index(drop=True)\n",
    "    # use_gene_list=list(set(list(ppi['gene1'])+list(ppi['gene2'])).intersection(set(gene_info['Gene'])))\n",
    "    gene_df=gene_info.loc[[x in use_gene_list for x in list(gene_info['Gene'])],:].drop_duplicates(subset=['Gene']).reset_index(drop=True)\n",
    "    use_gene_list=list(gene_df['Gene'])\n",
    "    print(f'{len(use_gene_list)} genes exist in gene_info')\n",
    "    disease_embedding=d_g_TCGA['mesh_embedding'][d_g_TCGA['TCGA'].tolist().index(TCGA_disease)]\n",
    "    disease_gene_embedding=[]\n",
    "    for x in list(gene_df['gene_embedding']):\n",
    "        disease_gene_embedding.append(disease_embedding+x)\n",
    "    disease_gene_preds=FCN_disease_gene.FCN_disease_gene([disease_gene_embedding],target_number=100,use_gene_list=use_gene_list)\n",
    "    # 依据use_gene_list在use_gene_list_all中的顺序，从drug_gene_preds_all中提取对应的基因，药物顺序为drug_list_all\n",
    "    idx=[use_gene_list_all.index(x) for x in use_gene_list]\n",
    "    drug_gene_preds=list(drug_gene_preds_all[:,idx])\n",
    "    print(f'predict on {len(drug_gene_preds[0])} genes for each of {len(drug_gene_preds)} drugs')\n",
    "    # 拆分 drug_gene_preds 列表\n",
    "    process_number=48\n",
    "    sublists = split_list(drug_gene_preds, process_number)\n",
    "    \n",
    "    # 创建一个进程池\n",
    "    with multiprocessing.Pool() as pool:\n",
    "        # 使用 map 函数将 process_sublist 函数应用到每个子列表\n",
    "        results = pool.map(process_sublist_drug, sublists)\n",
    "    \n",
    "    # 合并所有进程的结果\n",
    "    walk_results_drug = [item for sublist in results for item in sublist]\n",
    "    \n",
    "    print(f'cpu processes number:{process_number}')\n",
    "    print(f'finish random walk on {G.number_of_nodes()} genes for each of {len(drug_gene_preds)} drugs\\n\\\n",
    "    each drug return a dataframe with {len(walk_results_drug[0])} rows corresponding to {len(use_gene_list_all)} genes in use_gene_list_all')\n",
    "    \n",
    "    # 保存列表到文件\n",
    "    with open('walk_results_drug_TCGA/walk_results_drug_'+TCGA_disease+'.pkl', 'wb') as f:\n",
    "        pickle.dump(walk_results_drug, f)\n",
    "    # 从文件加载列表\n",
    "    # with open('walk_results_drug_TCGA/walk_results_drug_'+TCGA_disease+'.pkl', 'rb') as f:\n",
    "    #     walk_results_drug = pickle.load(f)"
   ]
  },
  {
   "cell_type": "markdown",
   "id": "58a97e31-1465-490c-ab2e-2747ab17a078",
   "metadata": {
    "tags": []
   },
   "source": [
    "### 构建疾病特异性网络"
   ]
  },
  {
   "cell_type": "code",
   "execution_count": 173,
   "id": "ab035322-46d9-4b68-b07e-86dcf7385476",
   "metadata": {},
   "outputs": [
    {
     "name": "stdout",
     "output_type": "stream",
     "text": [
      "disease:TCGA Glioblastoma Multiforme    target_drugs:78\n"
     ]
    }
   ],
   "source": [
    "# 选取特定TCGA疾病\n",
    "TCGA_disease=diseases_TCGA.loc[11,'TCGA']\n",
    "TCGA_drugs=d_g_TCGA.loc[d_g_TCGA['TCGA']==TCGA_disease,'ChemicalName']\n",
    "print(f'disease:{TCGA_disease}    target_drugs:{len(TCGA_drugs)}')"
   ]
  },
  {
   "cell_type": "code",
   "execution_count": 161,
   "id": "d3d640ce-3ab7-4fdf-882b-2c273d0bf404",
   "metadata": {},
   "outputs": [],
   "source": [
    "network=network_symbol_all.loc[network_symbol_all['category']==TCGA_disease,:]\n",
    "network.loc[network['cor']>0,'cor']=1\n",
    "network.loc[network['cor']<0,'cor']=-1\n",
    "# 删去边为0的边\n",
    "network=network.loc[network['cor']!=0,:].reset_index(drop=True)"
   ]
  },
  {
   "cell_type": "code",
   "execution_count": 162,
   "id": "e1a0380f-4fbf-4e66-9bc3-e05043932b8c",
   "metadata": {},
   "outputs": [
    {
     "name": "stdout",
     "output_type": "stream",
     "text": [
      "create DiGraph with 14652 nodes and 136090 edges\n"
     ]
    }
   ],
   "source": [
    "# 创建TCGA特异性有向图\n",
    "G = nx.DiGraph()\n",
    "# 添加边和节点及其属性\n",
    "for index, row in network.iterrows():\n",
    "    G.add_edge(row['node1'], row['node2'], direction=row['cor'])\n",
    "print(f'create DiGraph with {G.number_of_nodes()} nodes and {G.number_of_edges()} edges')"
   ]
  },
  {
   "cell_type": "code",
   "execution_count": 163,
   "id": "896b6302-5a8c-40c7-8f77-e450da9a55cd",
   "metadata": {},
   "outputs": [],
   "source": [
    "# 获取网络中基因与基因数据库的基因的交集\n",
    "use_gene_list=list((set(network['node1']).union(set(network['node2']))).intersection(set(gene_info['Gene'])))"
   ]
  },
  {
   "cell_type": "code",
   "execution_count": 164,
   "id": "f3b558fe-57bd-45ca-a581-3c0860767b08",
   "metadata": {},
   "outputs": [],
   "source": [
    "# # 这是原先使用的非特异性网络，平时都注释掉\n",
    "# ppi=pd.read_csv('HuamnSignalingNet_v7.csv')[['Unnamed: 1','Unnamed: 3','Unnamed: 4']]\n",
    "# ppi.rename(columns={'Unnamed: 1': 'gene1', 'Unnamed: 3': 'gene2', 'Unnamed: 4': 'direction'}, inplace=True)\n",
    "# ppi=ppi[ppi['direction']!='Phy']\n",
    "# ppi=ppi.reset_index(drop=True)\n",
    "# use_gene_list=list(set(list(ppi['gene1'])+list(ppi['gene2'])).intersection(set(gene_info['Gene'])))"
   ]
  },
  {
   "cell_type": "code",
   "execution_count": 165,
   "id": "903653d1-6db8-4f96-9ab9-b035d30ae7d5",
   "metadata": {},
   "outputs": [
    {
     "name": "stdout",
     "output_type": "stream",
     "text": [
      "14303 genes exist in gene_info\n"
     ]
    }
   ],
   "source": [
    "gene_df=gene_info.loc[[x in use_gene_list for x in list(gene_info['Gene'])],:].drop_duplicates(subset=['Gene']).reset_index(drop=True)\n",
    "use_gene_list=list(gene_df['Gene'])\n",
    "print(f'{len(use_gene_list)} genes exist in gene_info')"
   ]
  },
  {
   "cell_type": "markdown",
   "id": "15783ea1-13da-48ba-a732-9365c14a2e46",
   "metadata": {
    "tags": []
   },
   "source": [
    "### 计算药物谱"
   ]
  },
  {
   "cell_type": "code",
   "execution_count": 168,
   "id": "68a5fc68-9b55-44e6-969a-e40d734d00a7",
   "metadata": {},
   "outputs": [
    {
     "name": "stdout",
     "output_type": "stream",
     "text": [
      "predict on 14303 genes for each of 7940 drugs\n"
     ]
    }
   ],
   "source": [
    "# 依据use_gene_list在use_gene_list_all中的顺序，从drug_gene_preds_all中提取对应的基因，药物顺序为drug_list_all\n",
    "idx=[use_gene_list_all.index(x) for x in use_gene_list]\n",
    "drug_gene_preds=list(drug_gene_preds_all[:,idx])\n",
    "print(f'predict on {len(drug_gene_preds[0])} genes for each of {len(drug_gene_preds)} drugs')"
   ]
  },
  {
   "cell_type": "code",
   "execution_count": 169,
   "id": "1f914012-8284-4ed4-9cbd-c9dc649d404d",
   "metadata": {},
   "outputs": [],
   "source": [
    "# 多进程进行药物游走\n",
    "def process_sublist_drug(sublist):\n",
    "    # 调用 random_walk 函数，并传递子列表 sublist\n",
    "    walk_results_drug = random_walk.random_walk_specific_network(copy.deepcopy(G),sublist, use_gene_list,use_gene_list_all, epoch=15, alpha=0.3, factor=0.95, length=15, p=1, q=1)\n",
    "    # 下面为使用非特异性网络，平时注释掉\n",
    "    # walk_results_drug = random_walk.random_walk_new(sublist, use_gene_list,use_gene_list_all, epoch=15, alpha=0.3, factor=0.95, length=15, p=1, q=1)\n",
    "    return walk_results_drug\n",
    "\n",
    "def split_list(lst, n):\n",
    "    # 将列表 lst 拆分成 n 个较小的列表\n",
    "    k, m = divmod(len(lst), n)\n",
    "    return [lst[i * k + min(i, m):(i + 1) * k + min(i + 1, m)] for i in range(n)]"
   ]
  },
  {
   "cell_type": "code",
   "execution_count": 170,
   "id": "5cfabb30-95db-4d88-97f3-9e7fb6257459",
   "metadata": {
    "tags": []
   },
   "outputs": [
    {
     "name": "stdout",
     "output_type": "stream",
     "text": [
      "random walk 166/166\n",
      "cpu processes number:48\n",
      "finish random walk on 14652 genes for each of 7940 drugs\n",
      "each drug return a dataframe with 18977 rows corresponding to 18977 genes in use_gene_list_all\n"
     ]
    }
   ],
   "source": [
    "# 拆分 drug_gene_preds 列表\n",
    "process_number=48\n",
    "sublists = split_list(drug_gene_preds, process_number)\n",
    "\n",
    "# 创建一个进程池\n",
    "with multiprocessing.Pool() as pool:\n",
    "    # 使用 map 函数将 process_sublist 函数应用到每个子列表\n",
    "    results = pool.map(process_sublist_drug, sublists)\n",
    "\n",
    "# 合并所有进程的结果\n",
    "walk_results_drug = [item for sublist in results for item in sublist]\n",
    "\n",
    "print(f'cpu processes number:{process_number}')\n",
    "print(f'finish random walk on {G.number_of_nodes()} genes for each of {len(drug_gene_preds)} drugs\\n\\\n",
    "each drug return a dataframe with {len(walk_results_drug[0])} rows corresponding to {len(use_gene_list_all)} genes in use_gene_list_all')"
   ]
  },
  {
   "cell_type": "code",
   "execution_count": 171,
   "id": "923a3c0a-7ca1-4ff1-8127-bda33dde5329",
   "metadata": {},
   "outputs": [],
   "source": [
    "# 保存列表到文件\n",
    "with open('walk_results_drug_TCGA/walk_results_drug_'+TCGA_disease+'.pkl', 'wb') as f:\n",
    "    pickle.dump(walk_results_drug, f)\n",
    "# 从文件加载列表\n",
    "# with open('walk_results_drug_TCGA/walk_results_drug_'+TCGA_disease+'.pkl', 'rb') as f:\n",
    "#     walk_results_drug = pickle.load(f)"
   ]
  }
 ],
 "metadata": {
  "kernelspec": {
   "display_name": "Python 3 (ipykernel)",
   "language": "python",
   "name": "python3"
  },
  "language_info": {
   "codemirror_mode": {
    "name": "ipython",
    "version": 3
   },
   "file_extension": ".py",
   "mimetype": "text/x-python",
   "name": "python",
   "nbconvert_exporter": "python",
   "pygments_lexer": "ipython3",
   "version": "3.10.12"
  }
 },
 "nbformat": 4,
 "nbformat_minor": 5
}
